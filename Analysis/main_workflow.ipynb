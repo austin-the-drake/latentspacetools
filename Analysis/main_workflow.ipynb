{
 "cells": [
  {
   "cell_type": "markdown",
   "metadata": {},
   "source": [
    "# AI Model Response Judging Workflow\n",
    "\n",
    "This notebook serves as the main control panel for an end-to-end data processing and judging pipeline. It orchestrates the process from initial synthetic data generation to final analysis.\n",
    "\n",
    "**Standard Operating Procedure:**\n",
    "1. **Generate Synthetic Tasks**: Create `(input, context)` data pairs for a specified task type.\n",
    "2. **Run Prompting Session**: Use the synthetic tasks to prompt a target model and generate a session log file.\n",
    "3. **Reorganize Logs**: Restructure the flat log files into the nested directory format required by the ingestion script.\n",
    "4. **Ingest Session Log**: Parse the structured log files and load the model responses into the database.\n",
    "5. **Run Judging Process**: Find 'pending' items in the database and apply judgments.\n",
    "6. **Analyze Results**: Query the database to view and analyze the final, judged data."
   ]
  },
  {
   "cell_type": "markdown",
   "metadata": {},
   "source": [
    "### 1. Environment Setup and Imports\n",
    "\n",
    "This cell imports all necessary functions from the project's utility scripts and defines the constant file paths required for the workflow."
   ]
  },
  {
   "cell_type": "code",
   "execution_count": 1,
   "metadata": {},
   "outputs": [
    {
     "name": "stderr",
     "output_type": "stream",
     "text": [
      "c:\\Users\\austi\\OneDrive\\Documents\\MSc\\.venv\\Lib\\site-packages\\tqdm\\auto.py:21: TqdmWarning: IProgress not found. Please update jupyter and ipywidgets. See https://ipywidgets.readthedocs.io/en/stable/user_install.html\n",
      "  from .autonotebook import tqdm as notebook_tqdm\n"
     ]
    },
    {
     "name": "stdout",
     "output_type": "stream",
     "text": [
      "Setup complete. All modules imported and directories are ready.\n"
     ]
    }
   ],
   "source": [
    "import sqlite3\n",
    "import pandas as pd\n",
    "import os\n",
    "import shutil\n",
    "\n",
    "# Import custom utility functions from project modules\n",
    "from db_utils import create_connection, create_db_tables, clear_all_responses, get_record_count, get_status_breakdown\n",
    "from data_generation import generate_spell_tasks, generate_element_editing_tasks, generate_automata_scripting_tasks\n",
    "from prompting import run_prompting_session\n",
    "from ingest_data import ingest_log_files\n",
    "from run_judging import process_unjudged_instances\n",
    "\n",
    "# Define project-wide directory and file constants\n",
    "DB_FILE = \"judgements.db\"\n",
    "SYNTHETIC_DATA_DIR = \"synthetic_tasks\"\n",
    "SESSION_LOG_DIR = \"session_logs\"\n",
    "PROMPT_PREAMBLE_DIR = \"game_prompts\"\n",
    "\n",
    "# Ensure required directories exist\n",
    "os.makedirs(SYNTHETIC_DATA_DIR, exist_ok=True)\n",
    "os.makedirs(SESSION_LOG_DIR, exist_ok=True)\n",
    "os.makedirs(PROMPT_PREAMBLE_DIR, exist_ok=True)\n",
    "\n",
    "print(\"Setup complete. All modules imported and directories are ready.\")"
   ]
  },
  {
   "cell_type": "markdown",
   "metadata": {},
   "source": [
    "### 2. (Optional) Full System Reset\n",
    "\n",
    "This cell executes a destructive reset of the environment, which is useful for ensuring a clean test run. This operation will:\n",
    "1. Delete all records from the database.\n",
    "2. Erase all previously generated synthetic tasks and session logs."
   ]
  },
  {
   "cell_type": "code",
   "execution_count": 2,
   "metadata": {},
   "outputs": [
    {
     "name": "stderr",
     "output_type": "stream",
     "text": [
      "2025-06-16 12:25:06,197 - INFO - Successfully connected to SQLite database: judgements.db\n",
      "2025-06-16 12:25:06,197 - WARNING - Clearing all records from the 'responses' table.\n",
      "2025-06-16 12:25:06,203 - INFO - Table 'responses' has been cleared.\n",
      "2025-06-16 12:25:06,204 - INFO - Creating 'responses' table if it doesn't exist...\n",
      "2025-06-16 12:25:06,204 - INFO - Creating unique index 'idx_source' for data ingestion...\n",
      "2025-06-16 12:25:06,205 - INFO - Creating index 'idx_problem_hash' for analysis...\n",
      "2025-06-16 12:25:06,205 - INFO - Database tables and indexes are set up successfully.\n"
     ]
    },
    {
     "name": "stdout",
     "output_type": "stream",
     "text": [
      "--- Performing Full System Reset ---\n",
      "Database has been cleared and initialized.\n",
      "Cleared directory: synthetic_tasks\n",
      "Cleared directory: session_logs\n",
      "--- Reset Complete ---\n"
     ]
    }
   ],
   "source": [
    "print(\"--- Performing Full System Reset ---\")\n",
    "conn = create_connection(DB_FILE)\n",
    "if conn:\n",
    "    clear_all_responses(conn)\n",
    "    create_db_tables(conn)\n",
    "    conn.close()\n",
    "    print(\"Database has been cleared and initialized.\")\n",
    "\n",
    "if os.path.exists(SYNTHETIC_DATA_DIR):\n",
    "    shutil.rmtree(SYNTHETIC_DATA_DIR)\n",
    "    os.makedirs(SYNTHETIC_DATA_DIR)\n",
    "    print(f\"Cleared directory: {SYNTHETIC_DATA_DIR}\")\n",
    "\n",
    "if os.path.exists(SESSION_LOG_DIR):\n",
    "    shutil.rmtree(SESSION_LOG_DIR)\n",
    "    os.makedirs(SESSION_LOG_DIR)\n",
    "    print(f\"Cleared directory: {SESSION_LOG_DIR}\")\n",
    "print(\"--- Reset Complete ---\")"
   ]
  },
  {
   "cell_type": "markdown",
   "metadata": {},
   "source": [
    "### 3. Generate Synthetic Task Data\n",
    "\n",
    "Execute a generator function to create a JSON file containing `(input, context)` pairs. The target task type for generation should be specified in the `TASK_TYPE_TO_GENERATE` variable."
   ]
  },
  {
   "cell_type": "code",
   "execution_count": 3,
   "metadata": {},
   "outputs": [
    {
     "name": "stdout",
     "output_type": "stream",
     "text": [
      "--- Starting Synthetic Spell Task Generation ---\n",
      "Sending prompt to Gemini to generate 5 spell descriptions...\n",
      "Successfully received 5 spell descriptions.\n",
      "\n",
      "Successfully generated and saved 5 'spellScripting' tasks to 'synthetic_tasks\\spellScripting_tasks.json'.\n"
     ]
    }
   ],
   "source": [
    "# Specify the task type to generate data for.\n",
    "TASK_TYPE_TO_GENERATE = \"spellScripting\"\n",
    "SYNTHETIC_TASK_FILE = os.path.join(SYNTHETIC_DATA_DIR, f\"{TASK_TYPE_TO_GENERATE}_tasks.json\")\n",
    "\n",
    "# Note: The GEMINI_API_KEY environment variable must be set for this step.\n",
    "#generate_automata_scripting_tasks(num_tasks=5, output_file=SYNTHETIC_TASK_FILE)\n",
    "generate_spell_tasks(num_tasks=5, output_file=SYNTHETIC_TASK_FILE)\n",
    "#generate_element_editing_tasks(num_tasks=5, output_file=SYNTHETIC_TASK_FILE)\n"
   ]
  },
  {
   "cell_type": "markdown",
   "metadata": {},
   "source": [
    "### 4. Define and Create Prompt Preamble\n",
    "\n",
    "The `prompting.py` script requires a preamble file to define the core instruction for the model. This cell defines that preamble and writes it to a text file."
   ]
  },
  {
   "cell_type": "code",
   "execution_count": 4,
   "metadata": {},
   "outputs": [
    {
     "name": "stdout",
     "output_type": "stream",
     "text": [
      "Preamble file read from: game_prompts\\spellScriptingOneShot.txt\n"
     ]
    }
   ],
   "source": [
    "\n",
    "PREAMBLE_FILE = os.path.join(PROMPT_PREAMBLE_DIR, \"spellScriptingOneShot.txt\")\n",
    "\n",
    "if False:\n",
    "    PREAMBLE_FILE = os.path.join(PROMPT_PREAMBLE_DIR, \"automata_preamble.txt\")\n",
    "\n",
    "    preamble_text = \"\"\"You are an expert programmer for a 2D cellular automata simulation. \n",
    "    Your task is to translate a natural language description of a material's behavior into the required JSON format. \n",
    "    Analyze the user's input and the provided context of existing materials. \n",
    "    Return ONLY the JSON object for the new material, with no other text or explanation.\"\"\"\n",
    "\n",
    "    with open(PREAMBLE_FILE, 'w') as f:\n",
    "        f.write(preamble_text)\n",
    "\n",
    "    print(f\"Preamble file created at: {PREAMBLE_FILE}\")\n",
    "else:\n",
    "    with open(PREAMBLE_FILE, 'r') as f:\n",
    "        preamble_text = f.read()\n",
    "        print(f\"Preamble file read from: {PREAMBLE_FILE}\")"
   ]
  },
  {
   "cell_type": "markdown",
   "metadata": {},
   "source": [
    "### 5. Execute Prompting Session\n",
    "\n",
    "This step utilizes the generated synthetic data and preamble to prompt the target model, producing a session log file as output. This is the primary data collection step."
   ]
  },
  {
   "cell_type": "code",
   "execution_count": 5,
   "metadata": {},
   "outputs": [
    {
     "name": "stdout",
     "output_type": "stream",
     "text": [
      "--- Starting New Prompting Session ---\n",
      "  Task Type: spellScripting\n",
      "  Model: gpt-4.1\n",
      "  Input File: synthetic_tasks\\spellScripting_tasks.json\n",
      "------------------------------------\n",
      "Successfully loaded 5 tasks from 'synthetic_tasks\\spellScripting_tasks.json'.\n",
      "Will write results to: session_logs\\LatentSpaceLog-gpt-4.1-2025-06-16-12-25-22.txt\n",
      "\n"
     ]
    },
    {
     "name": "stderr",
     "output_type": "stream",
     "text": [
      "2025-06-16 12:25:26,377 - INFO - HTTP Request: GET https://api.openai.com/v1/models \"HTTP/1.1 200 OK\"\n"
     ]
    },
    {
     "name": "stdout",
     "output_type": "stream",
     "text": [
      "Processing task 1/5...\n"
     ]
    },
    {
     "name": "stderr",
     "output_type": "stream",
     "text": [
      "2025-06-16 12:25:30,427 - INFO - HTTP Request: POST https://api.openai.com/v1/chat/completions \"HTTP/1.1 200 OK\"\n"
     ]
    },
    {
     "name": "stdout",
     "output_type": "stream",
     "text": [
      "  -> Success: Received response from model.\n",
      "Processing task 2/5...\n"
     ]
    },
    {
     "name": "stderr",
     "output_type": "stream",
     "text": [
      "2025-06-16 12:25:33,211 - INFO - HTTP Request: POST https://api.openai.com/v1/chat/completions \"HTTP/1.1 200 OK\"\n"
     ]
    },
    {
     "name": "stdout",
     "output_type": "stream",
     "text": [
      "  -> Success: Received response from model.\n",
      "Processing task 3/5...\n"
     ]
    },
    {
     "name": "stderr",
     "output_type": "stream",
     "text": [
      "2025-06-16 12:25:35,604 - INFO - HTTP Request: POST https://api.openai.com/v1/chat/completions \"HTTP/1.1 200 OK\"\n"
     ]
    },
    {
     "name": "stdout",
     "output_type": "stream",
     "text": [
      "  -> Success: Received response from model.\n",
      "Processing task 4/5...\n"
     ]
    },
    {
     "name": "stderr",
     "output_type": "stream",
     "text": [
      "2025-06-16 12:25:38,762 - INFO - HTTP Request: POST https://api.openai.com/v1/chat/completions \"HTTP/1.1 200 OK\"\n"
     ]
    },
    {
     "name": "stdout",
     "output_type": "stream",
     "text": [
      "  -> Success: Received response from model.\n",
      "Processing task 5/5...\n"
     ]
    },
    {
     "name": "stderr",
     "output_type": "stream",
     "text": [
      "2025-06-16 12:25:42,521 - INFO - HTTP Request: POST https://api.openai.com/v1/chat/completions \"HTTP/1.1 200 OK\"\n"
     ]
    },
    {
     "name": "stdout",
     "output_type": "stream",
     "text": [
      "  -> Success: Received response from model.\n",
      "\n",
      "--- Prompting Session Complete ---\n",
      "All 5 tasks have been processed and logged to session_logs\\LatentSpaceLog-gpt-4.1-2025-06-16-12-25-22.txt.\n"
     ]
    }
   ],
   "source": [
    "# Execute a prompting session by calling the main function from the 'prompting' script.\n",
    "run_prompting_session(\n",
    "    task_type=TASK_TYPE_TO_GENERATE,\n",
    "    model_name='gpt-4.1', # This can be replaced with any other supported model.\n",
    "    prompt_preamble=preamble_text,\n",
    "    input_json_file=SYNTHETIC_TASK_FILE,\n",
    "    output_log_dir=SESSION_LOG_DIR\n",
    ")\n",
    "\n",
    "# 'gemini-2.5-flash-preview-05-20' 'gpt-4.1'"
   ]
  },
  {
   "cell_type": "markdown",
   "metadata": {},
   "source": [
    "### 6. Reorganize Log Files for Ingestion\n",
    "\n",
    "The data ingestion script requires logs to be organized in a `group_name/session_name.txt` structure. This cell moves the flat log files into the required nested format. A `GROUP_LABEL` can be added to append a suffix to the model name, allowing for more descriptive grouping (e.g., to denote a specific prompt strategy)."
   ]
  },
  {
   "cell_type": "code",
   "execution_count": 6,
   "metadata": {},
   "outputs": [
    {
     "name": "stdout",
     "output_type": "stream",
     "text": [
      "--- Reorganizing log files for ingestion ---\n",
      "Moved LatentSpaceLog-gpt-4.1-2025-06-16-12-25-22.txt -> gpt-4.1-test_group/Session-2025-06-16-12-25-22.txt\n",
      "--- Reorganization Complete ---\n"
     ]
    }
   ],
   "source": [
    "print(\"--- Reorganizing log files for ingestion ---\")\n",
    "\n",
    "# Add a descriptive label to the model group name for this session.\n",
    "# This is useful for differentiating runs with different prompt strategies, etc.\n",
    "# Set to an empty string \"\" to use only the model name.\n",
    "GROUP_LABEL = \"test_group\"\n",
    "\n",
    "files_to_move = [f for f in os.listdir(SESSION_LOG_DIR) if os.path.isfile(os.path.join(SESSION_LOG_DIR, f))]\n",
    "\n",
    "for filename in files_to_move:\n",
    "    if filename.startswith(\"LatentSpaceLog-\") and filename.endswith(\".txt\"):\n",
    "        try:\n",
    "            # Parse filename like: LatentSpaceLog-{model_name}-{timestamp}.txt\n",
    "            base_name = filename.replace('LatentSpaceLog-', '').replace('.txt', '')\n",
    "            parts = base_name.split('-')\n",
    "            session_timestamp = '-'.join(parts[-6:])\n",
    "            base_model_name = '-'.join(parts[:-6])\n",
    "            \n",
    "            # Append the label to the model name to create the final group name.\n",
    "            final_group_name = f\"{base_model_name}-{GROUP_LABEL}\" if GROUP_LABEL else base_model_name\n",
    "\n",
    "            # Create the necessary subdirectory for the final group name\n",
    "            group_dir = os.path.join(SESSION_LOG_DIR, final_group_name)\n",
    "            os.makedirs(group_dir, exist_ok=True)\n",
    "\n",
    "            # Move the file into the subdirectory\n",
    "            old_path = os.path.join(SESSION_LOG_DIR, filename)\n",
    "            new_filename = f\"Session-{session_timestamp}.txt\"\n",
    "            new_path = os.path.join(group_dir, new_filename)\n",
    "            shutil.move(old_path, new_path)\n",
    "            print(f\"Moved {filename} -> {final_group_name}/{new_filename}\")\n",
    "        except IndexError:\n",
    "            print(f\"Could not parse filename '{filename}', skipping.\")\n",
    "\n",
    "print(\"--- Reorganization Complete ---\")"
   ]
  },
  {
   "cell_type": "markdown",
   "metadata": {},
   "source": [
    "### 7. Ingest Session Logs into Database\n",
    "\n",
    "With the log files correctly structured, this step parses them and loads the data into the SQLite database. Ingested records are assigned a 'pending' status by default."
   ]
  },
  {
   "cell_type": "code",
   "execution_count": 7,
   "metadata": {},
   "outputs": [
    {
     "name": "stderr",
     "output_type": "stream",
     "text": [
      "2025-06-16 11:34:43,759 - INFO - --- Starting Data Ingestion from 'session_logs' ---\n",
      "2025-06-16 11:34:43,760 - INFO - Successfully connected to SQLite database: judgements.db\n",
      "2025-06-16 11:34:43,772 - INFO - --- Data Ingestion Complete ---\n",
      "2025-06-16 11:34:43,773 - INFO - Summary: 5 new records inserted, 0 records ignored as duplicates.\n"
     ]
    }
   ],
   "source": [
    "ingest_log_files(db_file=DB_FILE, master_folder=SESSION_LOG_DIR)"
   ]
  },
  {
   "cell_type": "markdown",
   "metadata": {},
   "source": [
    "### 8. Verify Database Status\n",
    "\n",
    "This cell provides a summary of the database's current state, verifying that records were ingested correctly before proceeding to the judging phase."
   ]
  },
  {
   "cell_type": "code",
   "execution_count": 8,
   "metadata": {},
   "outputs": [
    {
     "name": "stderr",
     "output_type": "stream",
     "text": [
      "2025-06-16 11:34:45,666 - INFO - Successfully connected to SQLite database: judgements.db\n",
      "2025-06-16 11:34:45,667 - INFO - Total records in database: 5\n",
      "2025-06-16 11:34:45,667 - INFO - Status breakdown:\n",
      "2025-06-16 11:34:45,668 - INFO -   - Status: pending, Count: 5\n"
     ]
    }
   ],
   "source": [
    "conn = create_connection(DB_FILE)\n",
    "if conn:\n",
    "    get_record_count(conn)\n",
    "    get_status_breakdown(conn)\n",
    "    conn.close()"
   ]
  },
  {
   "cell_type": "markdown",
   "metadata": {},
   "source": [
    "### 9. Execute Judging Process\n",
    "\n",
    "This script queries the database for all records with a 'pending' status. It then applies a judgment (currently simulated) and updates the record's status to 'judged'."
   ]
  },
  {
   "cell_type": "code",
   "execution_count": 9,
   "metadata": {},
   "outputs": [
    {
     "name": "stderr",
     "output_type": "stream",
     "text": [
      "2025-06-16 11:34:49,152 - INFO - --- Starting Judging Process for up to 10 records ---\n",
      "2025-06-16 11:34:49,153 - INFO - Successfully connected to SQLite database: judgements.db\n",
      "2025-06-16 11:34:49,154 - INFO - Found 5 records to process.\n",
      "2025-06-16 11:34:49,154 - INFO - Sending request to Gemini API...\n",
      "2025-06-16 11:35:19,579 - INFO - Successfully updated record 1 with judging results.\n",
      "2025-06-16 11:35:19,580 - INFO - Sending request to Gemini API...\n",
      "2025-06-16 11:35:35,970 - INFO - Successfully updated record 2 with judging results.\n",
      "2025-06-16 11:35:35,971 - INFO - Sending request to Gemini API...\n",
      "2025-06-16 11:35:47,015 - INFO - Successfully updated record 3 with judging results.\n",
      "2025-06-16 11:35:47,016 - INFO - Sending request to Gemini API...\n",
      "2025-06-16 11:35:55,529 - INFO - Successfully updated record 4 with judging results.\n",
      "2025-06-16 11:35:55,530 - INFO - Sending request to Gemini API...\n",
      "2025-06-16 11:36:06,372 - INFO - Successfully updated record 5 with judging results.\n",
      "2025-06-16 11:36:06,379 - INFO - --- Judging Process Finished for this Batch ---\n"
     ]
    }
   ],
   "source": [
    "# The judging script requires a folder containing prompt components.\n",
    "# For this workflow, a dummy directory is created to satisfy the script's requirement.\n",
    "JUDGE_PROMPT_DIR = \"judge_prompts\"\n",
    "#os.makedirs(JUDGE_PROMPT_DIR, exist_ok=True)\n",
    "\n",
    "process_unjudged_instances(db_file=DB_FILE, prompt_folder=JUDGE_PROMPT_DIR, limit=10)"
   ]
  },
  {
   "cell_type": "markdown",
   "metadata": {},
   "source": [
    "### 10. Final Analysis\n",
    "\n",
    "The pipeline execution is complete. This final step retrieves the judged records from the database and displays them in a pandas DataFrame for analysis."
   ]
  },
  {
   "cell_type": "code",
   "execution_count": 10,
   "metadata": {},
   "outputs": [
    {
     "name": "stderr",
     "output_type": "stream",
     "text": [
      "2025-06-16 11:36:14,023 - INFO - Successfully connected to SQLite database: judgements.db\n",
      "2025-06-16 11:36:14,024 - INFO - Status breakdown:\n",
      "2025-06-16 11:36:14,024 - INFO -   - Status: judged, Count: 5\n"
     ]
    },
    {
     "name": "stdout",
     "output_type": "stream",
     "text": [
      "--- Final Database Status ---\n",
      "\n",
      "--- Displaying Judged Records ---\n"
     ]
    },
    {
     "data": {
      "text/html": [
       "<div>\n",
       "<style scoped>\n",
       "    .dataframe tbody tr th:only-of-type {\n",
       "        vertical-align: middle;\n",
       "    }\n",
       "\n",
       "    .dataframe tbody tr th {\n",
       "        vertical-align: top;\n",
       "    }\n",
       "\n",
       "    .dataframe thead th {\n",
       "        text-align: right;\n",
       "    }\n",
       "</style>\n",
       "<table border=\"1\" class=\"dataframe\">\n",
       "  <thead>\n",
       "    <tr style=\"text-align: right;\">\n",
       "      <th></th>\n",
       "      <th>row_id</th>\n",
       "      <th>problem_hash</th>\n",
       "      <th>group_name</th>\n",
       "      <th>session_name</th>\n",
       "      <th>task_key</th>\n",
       "      <th>input</th>\n",
       "      <th>context</th>\n",
       "      <th>model_response</th>\n",
       "      <th>status</th>\n",
       "      <th>judge_scores_json</th>\n",
       "      <th>judge_rationales_json</th>\n",
       "      <th>judged_at</th>\n",
       "      <th>ingested_at</th>\n",
       "    </tr>\n",
       "  </thead>\n",
       "  <tbody>\n",
       "    <tr>\n",
       "      <th>0</th>\n",
       "      <td>1</td>\n",
       "      <td>89b8d82ec6a12a61357242899250092aff50200d97e22da32b46136534f134b5</td>\n",
       "      <td>gemini-2.5-flash-preview-05-20-test_group</td>\n",
       "      <td>Session-2025-06-16-11-33-38</td>\n",
       "      <td>spellScripting-2025-06-16-11-33-51</td>\n",
       "      <td>**Chrono-Echo Step**: A ripple of displaced air, a faint shimmer, then the c...</td>\n",
       "      <td>[\"Time\", \"Nature\", \"Arcane\", \"Aether\", \"Gravity\"]</td>\n",
       "      <td>```json\\n{\\n\"friendlyName\": \"Chrono Echo Step\",\\n\"components\": [\\n{\\n\"compon...</td>\n",
       "      <td>judged</td>\n",
       "      <td>{\"adherence\": 1, \"correctness\": 2, \"fidelity\": 3, \"creativity\": 4, \"programm...</td>\n",
       "      <td>{\"adherence\": \"The spell's root structure, including the 'friendlyName' and ...</td>\n",
       "      <td>2025-06-16T11:35:19.549997</td>\n",
       "      <td>2025-06-16T11:34:43.769649</td>\n",
       "    </tr>\n",
       "    <tr>\n",
       "      <th>1</th>\n",
       "      <td>2</td>\n",
       "      <td>d8ee0487b7ff1c10ac9adc7760ad839878e6006940f816ce0764fd40af7f673b</td>\n",
       "      <td>gemini-2.5-flash-preview-05-20-test_group</td>\n",
       "      <td>Session-2025-06-16-11-33-38</td>\n",
       "      <td>spellScripting-2025-06-16-11-34-14</td>\n",
       "      <td>**Verdant Embrace**: From the caster's outstretched hand, a vibrant green en...</td>\n",
       "      <td>[\"Nature\", \"Void\", \"Force\", \"Distortion\", \"Celestial\", \"Poison\", \"Mind\", \"Sp...</td>\n",
       "      <td>```json\\n{\\n\"friendlyName\": \"Verdant Embrace\",\\n\"components\": [\\n{\\n\"compone...</td>\n",
       "      <td>judged</td>\n",
       "      <td>{\"adherence\": 3, \"correctness\": 2, \"fidelity\": 5, \"creativity\": 5, \"programm...</td>\n",
       "      <td>{\"adherence\": \"The spell script included a top-level 'friendlyName' key, whi...</td>\n",
       "      <td>2025-06-16T11:35:35.970216</td>\n",
       "      <td>2025-06-16T11:34:43.770550</td>\n",
       "    </tr>\n",
       "    <tr>\n",
       "      <th>2</th>\n",
       "      <td>3</td>\n",
       "      <td>89d8f8f6689ddf7d8375f210281bff6249a73ef5a738a9d350580db227fffef6</td>\n",
       "      <td>gemini-2.5-flash-preview-05-20-test_group</td>\n",
       "      <td>Session-2025-06-16-11-33-38</td>\n",
       "      <td>spellScripting-2025-06-16-11-34-21</td>\n",
       "      <td>**Whisperwind Ward**: The caster traces a symbol in the air; the air around ...</td>\n",
       "      <td>[\"Distortion\", \"Illusion\", \"Wood\", \"Mind\", \"Light\", \"Bone\", \"Gravity\", \"Sound\"]</td>\n",
       "      <td>{\"friendlyName\": \"Whisperwind Ward\", \"components\": [{\"componentType\": \"shiel...</td>\n",
       "      <td>judged</td>\n",
       "      <td>{\"adherence\": 5, \"correctness\": 5, \"fidelity\": 5, \"creativity\": 5, \"programm...</td>\n",
       "      <td>{\"adherence\": \"The model strictly adhered to the defined component types and...</td>\n",
       "      <td>2025-06-16T11:35:47.015328</td>\n",
       "      <td>2025-06-16T11:34:43.770571</td>\n",
       "    </tr>\n",
       "    <tr>\n",
       "      <th>3</th>\n",
       "      <td>4</td>\n",
       "      <td>ce9e8696a7b61813862be752025355e21d64f430c01d306a0985348b3700e5da</td>\n",
       "      <td>gemini-2.5-flash-preview-05-20-test_group</td>\n",
       "      <td>Session-2025-06-16-11-33-38</td>\n",
       "      <td>spellScripting-2025-06-16-11-34-29</td>\n",
       "      <td>**Stone Meld**: Hands pressed against rock, the caster's skin momentarily ta...</td>\n",
       "      <td>[\"Celestial\", \"Blood\", \"Rune\", \"Air\", \"Illusion\", \"Nether\", \"Order\"]</td>\n",
       "      <td>```json\\n{\\n\"friendlyName\": \"Stone Meld\",\\n\"components\": [\\n{\\n\"componentTyp...</td>\n",
       "      <td>judged</td>\n",
       "      <td>{\"adherence\": 5, \"correctness\": 5, \"fidelity\": 4, \"creativity\": 3, \"programm...</td>\n",
       "      <td>{\"adherence\": \"The model strictly used only the `componentType`s and their a...</td>\n",
       "      <td>2025-06-16T11:35:55.529528</td>\n",
       "      <td>2025-06-16T11:34:43.770578</td>\n",
       "    </tr>\n",
       "    <tr>\n",
       "      <th>4</th>\n",
       "      <td>5</td>\n",
       "      <td>6fed1616386b2e24fb03244141e681c2ac252fb8135bcd13f12a838bb1da43bb</td>\n",
       "      <td>gemini-2.5-flash-preview-05-20-test_group</td>\n",
       "      <td>Session-2025-06-16-11-33-38</td>\n",
       "      <td>spellScripting-2025-06-16-11-34-38</td>\n",
       "      <td>**Ignis Nova**: A tiny spark ignites at the caster's fingertip, rapidly expa...</td>\n",
       "      <td>[\"Order\", \"Ice\", \"Fire\", \"Force\", \"Mind\", \"Nature\"]</td>\n",
       "      <td>{\"friendlyName\": \"Ignis Nova\", \"components\": [{\"componentType\": \"explosion\",...</td>\n",
       "      <td>judged</td>\n",
       "      <td>{\"adherence\": 5, \"correctness\": 5, \"fidelity\": 3, \"creativity\": 4, \"programm...</td>\n",
       "      <td>{\"adherence\": \"The model strictly used only the defined component types and ...</td>\n",
       "      <td>2025-06-16T11:36:06.372692</td>\n",
       "      <td>2025-06-16T11:34:43.770584</td>\n",
       "    </tr>\n",
       "  </tbody>\n",
       "</table>\n",
       "</div>"
      ],
      "text/plain": [
       "   row_id                                                      problem_hash  \\\n",
       "0       1  89b8d82ec6a12a61357242899250092aff50200d97e22da32b46136534f134b5   \n",
       "1       2  d8ee0487b7ff1c10ac9adc7760ad839878e6006940f816ce0764fd40af7f673b   \n",
       "2       3  89d8f8f6689ddf7d8375f210281bff6249a73ef5a738a9d350580db227fffef6   \n",
       "3       4  ce9e8696a7b61813862be752025355e21d64f430c01d306a0985348b3700e5da   \n",
       "4       5  6fed1616386b2e24fb03244141e681c2ac252fb8135bcd13f12a838bb1da43bb   \n",
       "\n",
       "                                  group_name                 session_name  \\\n",
       "0  gemini-2.5-flash-preview-05-20-test_group  Session-2025-06-16-11-33-38   \n",
       "1  gemini-2.5-flash-preview-05-20-test_group  Session-2025-06-16-11-33-38   \n",
       "2  gemini-2.5-flash-preview-05-20-test_group  Session-2025-06-16-11-33-38   \n",
       "3  gemini-2.5-flash-preview-05-20-test_group  Session-2025-06-16-11-33-38   \n",
       "4  gemini-2.5-flash-preview-05-20-test_group  Session-2025-06-16-11-33-38   \n",
       "\n",
       "                             task_key  \\\n",
       "0  spellScripting-2025-06-16-11-33-51   \n",
       "1  spellScripting-2025-06-16-11-34-14   \n",
       "2  spellScripting-2025-06-16-11-34-21   \n",
       "3  spellScripting-2025-06-16-11-34-29   \n",
       "4  spellScripting-2025-06-16-11-34-38   \n",
       "\n",
       "                                                                             input  \\\n",
       "0  **Chrono-Echo Step**: A ripple of displaced air, a faint shimmer, then the c...   \n",
       "1  **Verdant Embrace**: From the caster's outstretched hand, a vibrant green en...   \n",
       "2  **Whisperwind Ward**: The caster traces a symbol in the air; the air around ...   \n",
       "3  **Stone Meld**: Hands pressed against rock, the caster's skin momentarily ta...   \n",
       "4  **Ignis Nova**: A tiny spark ignites at the caster's fingertip, rapidly expa...   \n",
       "\n",
       "                                                                           context  \\\n",
       "0                                [\"Time\", \"Nature\", \"Arcane\", \"Aether\", \"Gravity\"]   \n",
       "1  [\"Nature\", \"Void\", \"Force\", \"Distortion\", \"Celestial\", \"Poison\", \"Mind\", \"Sp...   \n",
       "2  [\"Distortion\", \"Illusion\", \"Wood\", \"Mind\", \"Light\", \"Bone\", \"Gravity\", \"Sound\"]   \n",
       "3             [\"Celestial\", \"Blood\", \"Rune\", \"Air\", \"Illusion\", \"Nether\", \"Order\"]   \n",
       "4                              [\"Order\", \"Ice\", \"Fire\", \"Force\", \"Mind\", \"Nature\"]   \n",
       "\n",
       "                                                                    model_response  \\\n",
       "0  ```json\\n{\\n\"friendlyName\": \"Chrono Echo Step\",\\n\"components\": [\\n{\\n\"compon...   \n",
       "1  ```json\\n{\\n\"friendlyName\": \"Verdant Embrace\",\\n\"components\": [\\n{\\n\"compone...   \n",
       "2  {\"friendlyName\": \"Whisperwind Ward\", \"components\": [{\"componentType\": \"shiel...   \n",
       "3  ```json\\n{\\n\"friendlyName\": \"Stone Meld\",\\n\"components\": [\\n{\\n\"componentTyp...   \n",
       "4  {\"friendlyName\": \"Ignis Nova\", \"components\": [{\"componentType\": \"explosion\",...   \n",
       "\n",
       "   status  \\\n",
       "0  judged   \n",
       "1  judged   \n",
       "2  judged   \n",
       "3  judged   \n",
       "4  judged   \n",
       "\n",
       "                                                                 judge_scores_json  \\\n",
       "0  {\"adherence\": 1, \"correctness\": 2, \"fidelity\": 3, \"creativity\": 4, \"programm...   \n",
       "1  {\"adherence\": 3, \"correctness\": 2, \"fidelity\": 5, \"creativity\": 5, \"programm...   \n",
       "2  {\"adherence\": 5, \"correctness\": 5, \"fidelity\": 5, \"creativity\": 5, \"programm...   \n",
       "3  {\"adherence\": 5, \"correctness\": 5, \"fidelity\": 4, \"creativity\": 3, \"programm...   \n",
       "4  {\"adherence\": 5, \"correctness\": 5, \"fidelity\": 3, \"creativity\": 4, \"programm...   \n",
       "\n",
       "                                                             judge_rationales_json  \\\n",
       "0  {\"adherence\": \"The spell's root structure, including the 'friendlyName' and ...   \n",
       "1  {\"adherence\": \"The spell script included a top-level 'friendlyName' key, whi...   \n",
       "2  {\"adherence\": \"The model strictly adhered to the defined component types and...   \n",
       "3  {\"adherence\": \"The model strictly used only the `componentType`s and their a...   \n",
       "4  {\"adherence\": \"The model strictly used only the defined component types and ...   \n",
       "\n",
       "                    judged_at                 ingested_at  \n",
       "0  2025-06-16T11:35:19.549997  2025-06-16T11:34:43.769649  \n",
       "1  2025-06-16T11:35:35.970216  2025-06-16T11:34:43.770550  \n",
       "2  2025-06-16T11:35:47.015328  2025-06-16T11:34:43.770571  \n",
       "3  2025-06-16T11:35:55.529528  2025-06-16T11:34:43.770578  \n",
       "4  2025-06-16T11:36:06.372692  2025-06-16T11:34:43.770584  "
      ]
     },
     "metadata": {},
     "output_type": "display_data"
    }
   ],
   "source": [
    "conn = create_connection(DB_FILE)\n",
    "if conn:\n",
    "    print(\"--- Final Database Status ---\")\n",
    "    get_status_breakdown(conn)\n",
    "    \n",
    "    print(\"\\n--- Displaying Judged Records ---\")\n",
    "    pd.set_option('display.max_columns', None)\n",
    "    pd.set_option('display.max_colwidth', 80)\n",
    "    df_final = pd.read_sql_query(\"SELECT * FROM responses WHERE status = 'judged'\", conn)\n",
    "    display(df_final.head())\n",
    "    conn.close()"
   ]
  },
  {
   "cell_type": "code",
   "execution_count": 11,
   "id": "9d403a53",
   "metadata": {},
   "outputs": [
    {
     "name": "stdout",
     "output_type": "stream",
     "text": [
      "--- Searching for records with failed programmatic validation ---\n",
      "\n",
      "Found 3 records that failed programmatic validation:\n",
      "\n",
      "--- Failed Response (row_id: 1) ---\n",
      "```json\n",
      "{\n",
      "\"friendlyName\": \"Chrono Echo Step\",\n",
      "\"components\": [\n",
      "{\n",
      "\"componentType\": \"explosion\",\n",
      "\"radius\": 64\n",
      "},\n",
      "{\n",
      "\"componentType\": \"element\",\n",
      "\"element\": \"Time\"\n",
      "},\n",
      "{\n",
      "\"componentType\": \"element\",\n",
      "\"element\": \"Aether\"\n",
      "},\n",
      "{\n",
      "\"componentType\": \"color\",\n",
      "\"rgb\": [\n",
      "180,\n",
      "190,\n",
      "200\n",
      "]\n",
      "},\n",
      "{\n",
      "\"componentType\": \"manaCost\",\n",
      "\"cost\": 35\n",
      "},\n",
      "{\n",
      "\"componentType\": \"deathTrigger\",\n",
      "\"payload_components\": [\n",
      "{\n",
      "\"componentType\": \"teleportCaster\"\n",
      "},\n",
      "{\n",
      "\"componentType\": \"manifestation\",\n",
      "\"radius\": 2,\n",
      "\"material_properties\": {\n",
      "\"class\": \"gas\",\n",
      "\"color_rgb\": [\n",
      "200,\n",
      "210,\n",
      "220\n",
      "],\n",
      "\"blockpath\": false,\n",
      "\"density\": 0.5,\n",
      "\"elements\": [\n",
      "\"Time\",\n",
      "\"Aether\"\n",
      "],\n",
      "\"harmful\": false,\n",
      "\"lifespan\": 1.0\n",
      "}\n",
      "}\n",
      "]\n",
      "}\n",
      "]\n",
      "}\n",
      "```\n",
      "-----------------------------------\n",
      "\n",
      "--- Failed Response (row_id: 2) ---\n",
      "```json\n",
      "{\n",
      "\"friendlyName\": \"Verdant Embrace\",\n",
      "\"components\": [\n",
      "{\n",
      "\"componentType\": \"aoe\",\n",
      "\"radius\": 180,\n",
      "\"turns\": 3\n",
      "},\n",
      "{\n",
      "\"componentType\": \"element\",\n",
      "\"element\": \"Nature\"\n",
      "},\n",
      "{\n",
      "\"componentType\": \"color\",\n",
      "\"rgb\": [70, 200, 70]\n",
      "},\n",
      "{\n",
      "\"componentType\": \"manaCost\",\n",
      "\"cost\": 40\n",
      "},\n",
      "{\n",
      "\"componentType\": \"timerTrigger\",\n",
      "\"secs\": 0.5,\n",
      "\"loop\": true,\n",
      "\"payload_components\": [\n",
      "{\n",
      "\"componentType\": \"manifestation\",\n",
      "\"radius\": 3,\n",
      "\"material_properties\": {\n",
      "\"class\": \"solid\",\n",
      "\"color_rgb\": [120, 255, 120],\n",
      "\"blockpath\": false,\n",
      "\"density\": 1,\n",
      "\"elements\": [\"Nature\"],\n",
      "\"lifespan\": 1.5\n",
      "}\n",
      "}\n",
      "]\n",
      "}\n",
      "]\n",
      "}\n",
      "```\n",
      "-----------------------------------\n",
      "\n",
      "--- Failed Response (row_id: 4) ---\n",
      "```json\n",
      "{\n",
      "\"friendlyName\": \"Stone Meld\",\n",
      "\"components\": [\n",
      "{\n",
      "\"componentType\": \"teleportCaster\"\n",
      "},\n",
      "{\n",
      "\"componentType\": \"element\",\n",
      "\"element\": \"Rune\"\n",
      "},\n",
      "{\n",
      "\"componentType\": \"color\",\n",
      "\"rgb\": [\n",
      "120,\n",
      "120,\n",
      "100\n",
      "]\n",
      "},\n",
      "{\n",
      "\"componentType\": \"manaCost\",\n",
      "\"cost\": 35\n",
      "}\n",
      "]\n",
      "}\n",
      "```\n",
      "-----------------------------------\n",
      "\n"
     ]
    }
   ],
   "source": [
    "import pandas as pd\n",
    "import json\n",
    "\n",
    "# Assume create_connection is defined in your db_utils.py\n",
    "# from db_utils import create_connection\n",
    "\n",
    "# --- Placeholder function to make the script runnable ---\n",
    "import sqlite3\n",
    "def create_connection(db_file):\n",
    "    try:\n",
    "        return sqlite3.connect(db_file)\n",
    "    except sqlite3.Error as e:\n",
    "        print(e)\n",
    "    return None\n",
    "# ---------------------------------------------------------\n",
    "\n",
    "\n",
    "DB_FILE = \"judgements.db\"\n",
    "conn = create_connection(DB_FILE)\n",
    "\n",
    "if conn:\n",
    "    print(\"--- Searching for records with failed programmatic validation ---\")\n",
    "    \n",
    "    # This SQL query uses json_extract to look inside the JSON blob in the\n",
    "    # judge_scores_json column and find records where the validation status is \"Failed\".\n",
    "    sql_query = \"\"\"\n",
    "    SELECT\n",
    "        row_id,\n",
    "        model_response\n",
    "    FROM\n",
    "        responses\n",
    "    WHERE\n",
    "        status = 'judged' AND\n",
    "        json_extract(judge_scores_json, '$.programmatic_validation') = 'Failed'\n",
    "    \"\"\"\n",
    "    \n",
    "    try:\n",
    "        # Execute the query and load the results into a pandas DataFrame\n",
    "        failed_df = pd.read_sql_query(sql_query, conn)\n",
    "        \n",
    "        if failed_df.empty:\n",
    "            print(\"\\n✅ No records with failed programmatic validation were found.\")\n",
    "        else:\n",
    "            print(f\"\\nFound {len(failed_df)} records that failed programmatic validation:\\n\")\n",
    "            \n",
    "            # Iterate through the DataFrame and print each failed response\n",
    "            for index, row in failed_df.iterrows():\n",
    "                print(f\"--- Failed Response (row_id: {row['row_id']}) ---\")\n",
    "                \n",
    "                # Try to pretty-print the response if it's a JSON string\n",
    "                try:\n",
    "                    parsed_response = json.loads(row['model_response'])\n",
    "                    print(json.dumps(parsed_response, indent=2))\n",
    "                except (json.JSONDecodeError, TypeError):\n",
    "                    # If it's not valid JSON or not a string, print as is\n",
    "                    print(row['model_response'])\n",
    "                \n",
    "                print(\"-\" * 35 + \"\\n\")\n",
    "\n",
    "    except Exception as e:\n",
    "        print(f\"An error occurred while querying the database: {e}\")\n",
    "    finally:\n",
    "        conn.close()\n",
    "else:\n",
    "    print(\"Failed to connect to the database.\")"
   ]
  }
 ],
 "metadata": {
  "kernelspec": {
   "display_name": ".venv",
   "language": "python",
   "name": "python3"
  },
  "language_info": {
   "codemirror_mode": {
    "name": "ipython",
    "version": 3
   },
   "file_extension": ".py",
   "mimetype": "text/x-python",
   "name": "python",
   "nbconvert_exporter": "python",
   "pygments_lexer": "ipython3",
   "version": "3.13.2"
  }
 },
 "nbformat": 4,
 "nbformat_minor": 5
}
